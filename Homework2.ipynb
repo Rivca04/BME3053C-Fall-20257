{
  "nbformat": 4,
  "nbformat_minor": 0,
  "metadata": {
    "colab": {
      "provenance": [],
      "authorship_tag": "ABX9TyMNe+cwKjV0D/rPi4Q0l875",
      "include_colab_link": true
    },
    "kernelspec": {
      "name": "python3",
      "display_name": "Python 3"
    },
    "language_info": {
      "name": "python"
    }
  },
  "cells": [
    {
      "cell_type": "markdown",
      "metadata": {
        "id": "view-in-github",
        "colab_type": "text"
      },
      "source": [
        "<a href=\"https://colab.research.google.com/github/Rivca04/BME3053C-Fall-20257/blob/main/Homework2.ipynb\" target=\"_parent\"><img src=\"https://colab.research.google.com/assets/colab-badge.svg\" alt=\"Open In Colab\"/></a>"
      ]
    },
    {
      "cell_type": "code",
      "execution_count": null,
      "metadata": {
        "id": "exR2sh1Ii2Oz"
      },
      "outputs": [],
      "source": [
        "def normalize(bp_list):\n",
        "    normalized_bp = []\n",
        "    bp_list = list((map(int, bp_list.split(' '))))\n",
        "    min_bp = min(bp_list)\n",
        "    max_bp = max(bp_list)\n",
        "    for i in bp_list:\n",
        "      q = (i - min_bp)/(max_bp - min_bp)\n",
        "      normalized_bp.append(q)\n",
        "    return(normalized_bp)\n",
        "\n",
        "\n",
        "\n",
        "\n",
        "x = input('Please input BP readings separated by a space: ')\n",
        "\n",
        "norm_x = normalize(x)\n",
        "\n",
        "\n",
        "print(norm_x)\n"
      ]
    }
  ]
}