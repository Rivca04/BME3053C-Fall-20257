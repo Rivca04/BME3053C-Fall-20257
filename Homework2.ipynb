{
  "nbformat": 4,
  "nbformat_minor": 0,
  "metadata": {
    "colab": {
      "provenance": [],
      "include_colab_link": true
    },
    "kernelspec": {
      "name": "python3",
      "display_name": "Python 3"
    },
    "language_info": {
      "name": "python"
    }
  },
  "cells": [
    {
      "cell_type": "markdown",
      "metadata": {
        "id": "view-in-github",
        "colab_type": "text"
      },
      "source": [
        "<a href=\"https://colab.research.google.com/github/Rivca04/BME3053C-Fall-20257/blob/main/Homework2.ipynb\" target=\"_parent\"><img src=\"https://colab.research.google.com/assets/colab-badge.svg\" alt=\"Open In Colab\"/></a>"
      ]
    },
    {
      "cell_type": "code",
      "execution_count": 1,
      "metadata": {
        "id": "exR2sh1Ii2Oz",
        "outputId": "9feb3b69-65bd-4551-8af6-4ebf6053bae4",
        "colab": {
          "base_uri": "https://localhost:8080/"
        }
      },
      "outputs": [
        {
          "output_type": "stream",
          "name": "stdout",
          "text": [
            "Please input BP readings separated by a space: 100 120 156 2\n",
            "[0.6363636363636364, 0.7662337662337663, 1.0, 0.0]\n"
          ]
        }
      ],
      "source": [
        "def normalize(bp_list):\n",
        "    normalized_bp = []\n",
        "    bp_list = list((map(int, bp_list.split(' '))))\n",
        "    min_bp = min(bp_list)\n",
        "    max_bp = max(bp_list)\n",
        "    for i in bp_list:\n",
        "      a = (i - min_bp)/(max_bp - min_bp)\n",
        "      normalized_bp.append(a)\n",
        "    return(normalized_bp)\n",
        "\n",
        "\n",
        "\n",
        "\n",
        "x = input('Please input BP readings separated by a space: ')\n",
        "\n",
        "norm_x = normalize(x)\n",
        "\n",
        "\n",
        "print(norm_x)\n"
      ]
    }
  ]
}